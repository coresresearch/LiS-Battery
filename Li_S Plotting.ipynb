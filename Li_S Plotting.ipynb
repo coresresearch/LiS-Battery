{
 "cells": [
  {
   "cell_type": "code",
   "execution_count": 1,
   "metadata": {},
   "outputs": [
    {
     "name": "stdout",
     "output_type": "stream",
     "text": [
      "Using cascade\n",
      "Inputs check\n",
      "2.482774765849148e-05 3.6427468184473707e-07\n",
      "5365.519435723896\n",
      "1.6172090550639133\n",
      "0.703134371766919\n",
      "External current = -59.039794123002245\n",
      "Initialization check\n"
     ]
    }
   ],
   "source": [
    "import pandas as pd\n",
    "import numpy as np\n",
    "import csv\n",
    "from math import floor\n",
    "from matplotlib import pyplot as plt\n",
    "import matplotlib\n",
    "from li_s_battery_init import inputs\n",
    "from li_s_battery_init import cathode as cat\n",
    "from li_s_battery_init import anode as an\n",
    "from li_s_battery_post import tag_strings\n",
    "import os\n",
    "import sys\n",
    "owd = os.getcwd()\n"
   ]
  },
  {
   "cell_type": "code",
   "execution_count": 2,
   "metadata": {},
   "outputs": [],
   "source": [
    "# Function definitions\n",
    "def get_file_name(find_string, dir_path, **kwargs):\n",
    "    flag = kwargs.get('flag', None)\n",
    "    full_list = os.listdir(dir_path)\n",
    "    if flag:\n",
    "        file_name = [file for file in full_list if find_string in file]\n",
    "    else:\n",
    "        file_name = [file for file in full_list if find_string in file][0]\n",
    "        \n",
    "    return file_name\n",
    "\n",
    "def df_name(file_name_list, file_number):\n",
    "    file_name = file_name_list[file_number]\n",
    "    df_name = file_name.split('_')\n",
    "    return df_name[0]\n",
    "\n",
    "def read_file(file_name_list):\n",
    "    df_dict = {}\n",
    "    for i in np.arange(0, len(file_name_list)):\n",
    "        name = df_name(file_name_list, i)\n",
    "        df_dict[name] = pd.read_csv(file_name_list[i])\n",
    "    return df_dict\n",
    "\n",
    "def sort_df(SV):\n",
    "    Vcell = {}\n",
    "    Capacity = {}\n",
    "    C_k = {}\n",
    "    keys = list(SV.keys())\n",
    "    tags = tag_strings(SV['dch0.1C'])\n",
    "    for i in np.arange(0, len(SV.keys())):\n",
    "        offset = i*9\n",
    "        Crate = keys[i]\n",
    "        Vcell[Crate] = SV[Crate]['Phi_ed5']\n",
    "        Capacity[Crate] = SV[Crate]['Time']\n",
    "        C_k[Crate] = SV[Crate][tags['rho_el']]\n",
    "    return Vcell, Capacity, C_k"
   ]
  },
  {
   "cell_type": "code",
   "execution_count": 5,
   "metadata": {},
   "outputs": [],
   "source": [
    "assary_files = get_file_name('.csv', 'Assary Data', flag=1)\n",
    "kuzmina_files = get_file_name('.csv', 'Kuzmina Data', flag=1)\n",
    "cascade_files = get_file_name('.csv', 'Cascade Data', flag=1)"
   ]
  },
  {
   "cell_type": "code",
   "execution_count": 6,
   "metadata": {},
   "outputs": [],
   "source": [
    "os.chdir(owd)\n",
    "os.chdir('Assary Data')\n",
    "assary_data = read_file(assary_files)\n",
    "os.chdir(owd)\n",
    "os.chdir('Kuzmina Data')\n",
    "kuzmina_data = read_file(kuzmina_files)\n",
    "os.chdir(owd)\n",
    "os.chdir('Cascade Data')\n",
    "cascade_data = read_file(cascade_files)\n",
    "os.chdir(owd)"
   ]
  },
  {
   "cell_type": "code",
   "execution_count": 7,
   "metadata": {},
   "outputs": [],
   "source": [
    "Vcell_assary, Cap_assary, C_k_assary = sort_df(assary_data)\n",
    "Vcell_kuzmina, Cap_kuzmina, C_k_kuzmina = sort_df(kuzmina_data)\n",
    "Vcell_cascade, Cap_cascade, C_k_cascade = sort_df(cascade_data)"
   ]
  },
  {
   "cell_type": "code",
   "execution_count": 8,
   "metadata": {},
   "outputs": [
    {
     "name": "stdout",
     "output_type": "stream",
     "text": [
      "[[5.03830e-02 2.98030e-02 5.27975e-01 1.00000e+00]\n",
      " [4.17642e-01 5.64000e-04 6.58390e-01 1.00000e+00]\n",
      " [6.92840e-01 1.65141e-01 5.64522e-01 1.00000e+00]\n",
      " [8.81443e-01 3.92529e-01 3.83229e-01 1.00000e+00]\n",
      " [9.88260e-01 6.52325e-01 2.11364e-01 1.00000e+00]\n",
      " [9.40015e-01 9.75158e-01 1.31326e-01 1.00000e+00]]\n"
     ]
    }
   ],
   "source": [
    "fs = 20\n",
    "font = 'Times New Roman'\n",
    "lw = 2.0\n",
    "keys = ['dch0.1C', 'dch0.2C', 'dch0.3C', 'dch0.4C', 'dch0.5C', 'dch0.6C', 'dch0.7C',\n",
    "        'dch0.8C', 'dch0.9C', 'dch1C', 'dch1.1C', 'dch1.2C', 'dch1.3C',\n",
    "        'dch1.4C', 'dch1.5C',]\n",
    "tags = tag_strings(assary_data['dch0.1C'])\n",
    "grad = np.linspace(0, 1, 6)\n",
    "species_cmap = np.zeros((len(grad),4))\n",
    "for i, val in enumerate(grad):\n",
    "    species_cmap[i] = matplotlib.cm.plasma(val)\n",
    "colormap = plt.cm.get_cmap('plasma')\n",
    "print(species_cmap)"
   ]
  },
  {
   "cell_type": "markdown",
   "metadata": {},
   "source": [
    "## Section 1 plotting cell voltage at various C-rates "
   ]
  },
  {
   "cell_type": "code",
   "execution_count": null,
   "metadata": {},
   "outputs": [],
   "source": [
    "os.chdir(owd)\n",
    "os.chdir('Figures/voltage')\n",
    "for i in np.arange(0, len(keys), 2):\n",
    "    fig = plt.figure(1)\n",
    "    ax = fig.add_axes([0.2, 0.2, 0.6, 0.75])\n",
    "    ax.tick_params(direction='in')\n",
    "    fig.set_size_inches((8., 5.))\n",
    "    \n",
    "    for tick in ax.xaxis.get_major_ticks():\n",
    "        tick.label1.set_fontsize(fs)\n",
    "        tick.label1.set_fontname(font)\n",
    "    for tick in ax.yaxis.get_major_ticks():\n",
    "        tick.label1.set_fontsize(fs)\n",
    "        tick.label1.set_fontname(font)\n",
    "    print(keys[i])\n",
    "    #p1, = plt.plot(Cap_assary[keys[i]], Vcell_assary[keys[i]], 'k-', linewidth=lw)\n",
    "    #p2, = plt.plot(Cap_kuzmina[keys[i]], Vcell_kuzmina[keys[i]], 'r-', linewidth=lw)\n",
    "    p3, = plt.plot(Cap_cascade[keys[i]], Vcell_cascade[keys[i]], 'b-', linewidth=lw)\n",
    "    \n",
    "    plt.xlim((0, 1500))\n",
    "    plt.ylim((1.8, 2.4))\n",
    "    fig.savefig('Vcell' + keys[i] + '.png')\n",
    "os.chdir(owd)"
   ]
  },
  {
   "cell_type": "markdown",
   "metadata": {},
   "source": [
    "## Plotting polysulfide concentrations at 0.1C"
   ]
  },
  {
   "cell_type": "code",
   "execution_count": null,
   "metadata": {},
   "outputs": [],
   "source": [
    "os.chdir(owd)\n",
    "os.chdir('Figures/species concentrations')\n",
    "for i in np.arange(0, len(keys)):\n",
    "    fig, (ax1, ax2, ax3) = plt.subplots(3, 1, sharex=True, sharey=True, num=i)\n",
    "    ax1.tick_params(direction='in')\n",
    "    ax2.tick_params(direction='in')\n",
    "    ax3.tick_params(direction='in')\n",
    "    fig.set_size_inches((8., 5.))\n",
    "    \n",
    "    for tick in ax1.xaxis.get_major_ticks():\n",
    "        tick.label1.set_fontsize(fs-4)\n",
    "        tick.label1.set_fontname(font)\n",
    "    for tick in ax1.yaxis.get_major_ticks():\n",
    "        tick.label1.set_fontsize(fs-4)\n",
    "        tick.label1.set_fontname(font)\n",
    "        \n",
    "    for tick in ax2.xaxis.get_major_ticks():\n",
    "        tick.label1.set_fontsize(fs-4)\n",
    "        tick.label1.set_fontname(font)\n",
    "    for tick in ax2.yaxis.get_major_ticks():\n",
    "        tick.label1.set_fontsize(fs-4)\n",
    "        tick.label1.set_fontname(font)\n",
    "        \n",
    "    for tick in ax3.xaxis.get_major_ticks():\n",
    "        tick.label1.set_fontsize(fs-4)\n",
    "        tick.label1.set_fontname(font)\n",
    "    for tick in ax3.yaxis.get_major_ticks():\n",
    "        tick.label1.set_fontsize(fs-4)\n",
    "        tick.label1.set_fontname(font)\n",
    "\n",
    "    for j in np.arange(0, inputs.npoints_cathode):\n",
    "        offset = j*6\n",
    "        for k in np.arange(0, 6):\n",
    "            ax1.plot(Cap_assary[keys[i]], C_k_assary[keys[i]].iloc[:, k+offset], \n",
    "                     linewidth=lw, color=species_cmap[k])\n",
    "            ax2.plot(Cap_kuzmina[keys[i]], C_k_kuzmina[keys[i]].iloc[:, k+offset], \n",
    "                     linewidth=lw, color=species_cmap[k])\n",
    "            ax3.plot(Cap_cascade[keys[i]], C_k_cascade[keys[i]].iloc[:, k+offset], \n",
    "                     linewidth=lw, color=species_cmap[k])\n",
    "    fig.savefig('C_k_elyte' + keys[i] + '.png')\n",
    "    fig.legend()\n",
    "os.chdir(owd)"
   ]
  },
  {
   "cell_type": "markdown",
   "metadata": {},
   "source": [
    "## Plotting Ragone plots to show stability"
   ]
  },
  {
   "cell_type": "code",
   "execution_count": 9,
   "metadata": {},
   "outputs": [
    {
     "name": "stdout",
     "output_type": "stream",
     "text": [
      "[  96.2336907   190.05068013  283.38252773  376.90919228  467.30600891\n",
      "  559.40670229  651.86424309  745.43850685  834.3528112   928.18095916\n",
      " 1015.86480774 1107.2374828  1198.07103508 1288.7146257  1382.08442417] [859.31021089 814.08811556 775.9400191  741.67766332 704.61232616\n",
      " 673.18289557 644.07462071 617.59213383 589.18168969 566.05022207\n",
      " 540.89063051 519.47939927 499.24801212 480.30868514 463.56560931]\n"
     ]
    }
   ],
   "source": [
    "Li2S8_max = 0.756\n",
    "Li2S4_max = 0.0085\n",
    "Li2S2_max = 0.00695\n",
    "Li2S_max = 0.0008\n",
    "\n",
    "Li2S6_max = 0.5*(Li2S8_max + Li2S4_max)\n",
    "Li2S3_max = 0.5*(Li2S4_max + Li2S2_max)\n",
    "i_ext_0 = -4.217\n",
    "i_ext = [i_ext_0, i_ext_0*2, i_ext_0*3, i_ext_0*4, i_ext_0*5, i_ext_0*6, i_ext_0*7, \n",
    "         i_ext_0*8, i_ext_0*9, i_ext_0*10, i_ext_0*11, i_ext_0*12, i_ext_0*13,\n",
    "         i_ext_0*14, i_ext_0*15]\n",
    "Power_cascade = np.zeros((len(keys)))\n",
    "E_rec = np.zeros((len(keys)))\n",
    "for i in np.arange(0, len(keys)):\n",
    "    Vcell_cascadei = Vcell_cascade[keys[i]]\n",
    "    Cap_cascadei = Cap_cascade[keys[i]]\n",
    "    Vcell_cascade_avg = np.average(Vcell_cascadei)\n",
    "    Power_cascade[i] = -Vcell_cascade_avg*i_ext[i]*inputs.A_cat/an.m_bat\n",
    "    E_rec[i] = -Vcell_cascade_avg*Cap_cascadei.iloc[-1]*(cat.m_S_0 + cat.m_S_el)/an.m_bat\n",
    "    \n",
    "print(Power_cascade, -E_rec)"
   ]
  },
  {
   "cell_type": "code",
   "execution_count": 10,
   "metadata": {},
   "outputs": [
    {
     "name": "stdout",
     "output_type": "stream",
     "text": [
      "[1.94825613 2.45233083 2.70646165 2.8310393  2.89373942 2.92598383\n",
      " 2.94051584 2.92601516 2.88619143 2.82791238 2.75628575 2.67513735\n",
      " 2.58739108 2.49527836 2.40054605]\n",
      "[0.66255591 0.83397981 0.9204037  0.96276962 0.98409244 0.99505801\n",
      " 1.         0.99506866 0.98152555 0.96170622 0.9373477  0.90975104\n",
      " 0.87991061 0.84858525 0.81636903]\n"
     ]
    }
   ],
   "source": [
    "Max_conc = np.zeros((len(keys)))\n",
    "for i in np.arange(0, len(keys)):\n",
    "    max1 = max(C_k_cascade[keys[i]]['rho_S2-(e)_cat1'])\n",
    "    max2 = max(C_k_cascade[keys[i]]['rho_S2-(e)_cat2'])\n",
    "    max3 = max(C_k_cascade[keys[i]]['rho_S2-(e)_cat3'])\n",
    "    max4 = max(C_k_cascade[keys[i]]['rho_S2-(e)_cat4'])\n",
    "    max5 = max(C_k_cascade[keys[i]]['rho_S2-(e)_cat5'])\n",
    "    Max_conc[i] = max(max1, max2, max3, max4, max5)\n",
    "print(Max_conc)\n",
    "\n",
    "Max_conc_norm = Max_conc/max(Max_conc)\n",
    "print(Max_conc_norm)\n",
    "\n",
    "plasma_custom = matplotlib.cm.plasma(Max_conc_norm)"
   ]
  },
  {
   "cell_type": "code",
   "execution_count": 11,
   "metadata": {},
   "outputs": [
    {
     "data": {
      "image/png": "[encoded data removed]",
      "text/plain": [
       "<Figure size 576x360 with 2 Axes>"
      ]
     },
     "metadata": {
      "needs_background": "light"
     },
     "output_type": "display_data"
    }
   ],
   "source": [
    "os.chdir(owd)\n",
    "os.chdir('Figures/ragone plots')\n",
    "fig = plt.figure(1)\n",
    "ax = fig.add_axes([0.2, 0.2, 0.6, 0.75])\n",
    "ax.tick_params(direction='in')\n",
    "fig.set_size_inches((8., 5.))\n",
    "\n",
    "for tick in ax.xaxis.get_major_ticks():\n",
    "    tick.label1.set_fontsize(fs)\n",
    "    tick.label1.set_fontname(font)\n",
    "for tick in ax.yaxis.get_major_ticks():\n",
    "    tick.label1.set_fontsize(fs)\n",
    "    tick.label1.set_fontname(font)\n",
    "\n",
    "p1 = plt.scatter(Power_cascade, -E_rec, c=Max_conc, cmap='plasma', vmin=min(Max_conc), vmax=3.05)\n",
    "plt.colorbar(p1)\n",
    "fig.savefig('Ragone.png')\n",
    "os.chdir(owd)"
   ]
  },
  {
   "cell_type": "markdown",
   "metadata": {},
   "source": [
    "## Plotting mean polysulfide concentrations (order >=4)"
   ]
  },
  {
   "cell_type": "code",
   "execution_count": null,
   "metadata": {},
   "outputs": [],
   "source": [
    "def plot_meanPS(SV_df, tags, cycle):\n",
    "\n",
    "#    C_k = SV_df[tags['rho_el'][cathode.i_S8:-2]].copy()\n",
    "    meanPS = np.zeros([len(SV_df.index), inputs.npoints_cathode])\n",
    "    for i in np.arange(inputs.npoints_cathode):\n",
    "        for j in np.arange(len(SV_df.index)):\n",
    "            offset = i*10\n",
    "            C_k = SV_df[tags['rho_el'][5+offset:offset+8]].copy()\n",
    "            meanPS[j, i] = sum(cat.n_S_atoms[5:-2]*C_k.iloc[j, :])/sum(cat.S_atoms_bool[5:-2]*C_k.iloc[j, :])\n",
    "          \n",
    "    \"Set up your figure\"\n",
    "    fig = plt.figure(2)\n",
    "    ax = fig.add_axes([0.2,0.2,0.6,0.75])\n",
    "    fig.set_size_inches((8.,5.0))\n",
    "    \n",
    "    \"Formatting for the figure:\"\n",
    "    fs = 20     #font size for plots\n",
    "    lw = 2.0    #line width for plots\n",
    "#    font = plt.matplotlib.font_manager.FontProperties(family='Times New Roman',size=fs-1)\n",
    "    \n",
    "    for tick in ax.xaxis.get_major_ticks():\n",
    "        tick.label1.set_fontsize(fs)\n",
    "        tick.label1.set_fontname('Times New Roman')\n",
    "    for tick in ax.yaxis.get_major_ticks():\n",
    "        tick.label1.set_fontsize(fs)\n",
    "        tick.label1.set_fontname('Times New Roman')    \n",
    "    \n",
    "    for i in np.arange(inputs.npoints_cathode):\n",
    "        p1, = plt.plot(SV_df.loc[:, 'Time'], meanPS[:, i], '-', linewidth=lw)\n",
    "        plt.xlim((0, 1770))\n",
    "        plt.xticks([0, 200, 400, 600, 800, 1000, 1200, 1400, 1600])\n",
    "        plt.yticks([2, 3, 4, 5, 6, 7, 8])\n",
    "        plt.ylabel('Cell Voltage [V]', fontstyle='normal', fontname='Times new Roman', fontsize=fs+2, labelpad=5.0)\n",
    "        plt.xlabel(r'Capacity $[\\mathrm{Ah} \\hspace{0.5} \\mathrm{kg}^{-1}_{\\mathrm{sulfur}}]$', fontstyle='normal', fontname='Times new Roman', fontsize=fs+2, labelpad=5.0)\n",
    "        \n",
    "    return"
   ]
  },
  {
   "cell_type": "code",
   "execution_count": null,
   "metadata": {},
   "outputs": [],
   "source": []
  },
  {
   "cell_type": "code",
   "execution_count": null,
   "metadata": {},
   "outputs": [],
   "source": []
  }
 ],
 "metadata": {
  "kernelspec": {
   "display_name": "Python 3",
   "language": "python",
   "name": "python3"
  },
  "language_info": {
   "codemirror_mode": {
    "name": "ipython",
    "version": 3
   },
   "file_extension": ".py",
   "mimetype": "text/x-python",
   "name": "python",
   "nbconvert_exporter": "python",
   "pygments_lexer": "ipython3",
   "version": "3.5.6"
  }
 },
 "nbformat": 4,
 "nbformat_minor": 2
}
